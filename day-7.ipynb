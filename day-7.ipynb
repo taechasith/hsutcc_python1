{
 "cells": [
  {
   "cell_type": "code",
   "execution_count": 4,
   "id": "92a14a3c",
   "metadata": {},
   "outputs": [
    {
     "name": "stdout",
     "output_type": "stream",
     "text": [
      "24\n"
     ]
    }
   ],
   "source": [
    "name = \"\"\"Bangkok\n",
    "Thailand \n",
    "100c00\"\"\"\n",
    "\n",
    "print(len( name))"
   ]
  },
  {
   "cell_type": "markdown",
   "id": "104ac3f4",
   "metadata": {},
   "source": [
    "METHOD"
   ]
  },
  {
   "cell_type": "code",
   "execution_count": 7,
   "id": "921d96c1",
   "metadata": {},
   "outputs": [
    {
     "data": {
      "text/plain": [
       "2"
      ]
     },
     "execution_count": 7,
     "metadata": {},
     "output_type": "execute_result"
    }
   ],
   "source": [
    "#count\n",
    "word = \"Thailand\"\n",
    "word.count(\"a\")"
   ]
  },
  {
   "cell_type": "code",
   "execution_count": 17,
   "id": "1b632322",
   "metadata": {},
   "outputs": [
    {
     "name": "stdout",
     "output_type": "stream",
     "text": [
      "Count of 'Never gonna': 40\n",
      "Number of non-empty lyric lines: 63\n",
      "Total number of alphabet characters: 1525\n"
     ]
    }
   ],
   "source": [
    "word = \"\"\"[Intro]\n",
    "Desert you\n",
    "Ooh-ooh-ooh-ooh\n",
    "Hurt you\n",
    "\n",
    "[Verse 1]\n",
    "We're no strangers to love\n",
    "You know the rules and so do I (Do I)\n",
    "A full commitment's what I'm thinking of\n",
    "You wouldn't get this from any other guy\n",
    "\n",
    "[Pre-Chorus]\n",
    "I just wanna tell you how I'm feeling\n",
    "Gotta make you understand\n",
    "\n",
    "[Chorus]\n",
    "Never gonna give you up\n",
    "Never gonna let you down\n",
    "Never gonna run around and desert you\n",
    "Never gonna make you cry\n",
    "Never gonna say goodbye\n",
    "Never gonna tell a lie and hurt you\n",
    "\n",
    "[Verse 2]\n",
    "We've known each other for so long\n",
    "Your heart's been aching, but you're too shy to say it (To say it)\n",
    "Inside, we both know what's been going on (Going on)\n",
    "We know the game, and we're gonna play it\n",
    "\n",
    "[Pre-Chorus]\n",
    "And if you ask me how I'm feeling\n",
    "Don't tell me you're too blind to see\n",
    "\n",
    "[Chorus]\n",
    "Never gonna give you up\n",
    "Never gonna let you down\n",
    "Never gonna run around and desert you\n",
    "Never gonna make you cry\n",
    "Never gonna say goodbye\n",
    "Never gonna tell a lie and hurt you\n",
    "Never gonna give you up\n",
    "Never gonna let you down\n",
    "Never gonna run around and desert you\n",
    "Never gonna make you cry\n",
    "Never gonna say goodbye\n",
    "Never gonna tell a lie and hurt you\n",
    "\n",
    "[Bridge]\n",
    "Ooh (Give you up)\n",
    "Ooh-ooh (Give you up)\n",
    "Ooh-ooh\n",
    "Never gonna give, never gonna give (Give you up)\n",
    "Ooh-ooh\n",
    "Never gonna give, never gonna give (Give you up)\n",
    "[Verse 3]\n",
    "We've known each other for so long\n",
    "Your heart's been aching, but you're too shy to say it (To say it)\n",
    "Inside, we both know what's been going on (Going on)\n",
    "We know the game, and we're gonna play it\n",
    "\n",
    "[Pre-Chorus]\n",
    "I just wanna tell you how I'm feeling\n",
    "Gotta make you understand\n",
    "\n",
    "[Chorus]\n",
    "Never gonna give you up\n",
    "Never gonna let you down\n",
    "Never gonna run around and desert you\n",
    "Never gonna make you cry\n",
    "Never gonna say goodbye\n",
    "Never gonna tell a lie and hurt you\n",
    "Never gonna give you up\n",
    "Never gonna let you down\n",
    "Never gonna run around and desert you\n",
    "Never gonna make you cry\n",
    "Never gonna say goodbye\n",
    "Never gonna tell a lie and hurt you\n",
    "Never gonna give you up\n",
    "Never gonna let you down\n",
    "Never gonna run around and desert you\n",
    "Never gonna make you cry\n",
    "Never gonna say goodbye\n",
    "Never gonna tell a lie and hurt you\"\"\"\n",
    "\n",
    "# 1. Remove lines with [brackets]\n",
    "lines = word.split('\\n')\n",
    "clean_lines = []\n",
    "for line in lines:\n",
    "    if '[' not in line and ']' not in line:\n",
    "        clean_lines.append(line)\n",
    "\n",
    "# Join cleaned lines back into a single string\n",
    "cleaned_lyrics = '\\n'.join(clean_lines)\n",
    "\n",
    "# 2. Count \"Never gonna\" (case-insensitive)\n",
    "lower_lyrics = cleaned_lyrics.lower()\n",
    "never_gonna_count = lower_lyrics.count(\"never gonna\")\n",
    "\n",
    "# 3. Count how many non-empty lines remain\n",
    "line_count = 0\n",
    "for line in clean_lines:\n",
    "    if line.strip() != \"\":\n",
    "        line_count += 1\n",
    "\n",
    "# 4. Count how many alphabet characters (A-Z, a-z)\n",
    "alphabet_count = 0\n",
    "for char in cleaned_lyrics:\n",
    "    if char.isalpha():\n",
    "        alphabet_count += 1\n",
    "\n",
    "# Print results\n",
    "print(\"Count of 'Never gonna':\", never_gonna_count)\n",
    "print(\"Number of non-empty lyric lines:\", line_count)\n",
    "print(\"Total number of alphabet characters:\", alphabet_count)"
   ]
  }
 ],
 "metadata": {
  "kernelspec": {
   "display_name": "Python 3",
   "language": "python",
   "name": "python3"
  },
  "language_info": {
   "codemirror_mode": {
    "name": "ipython",
    "version": 3
   },
   "file_extension": ".py",
   "mimetype": "text/x-python",
   "name": "python",
   "nbconvert_exporter": "python",
   "pygments_lexer": "ipython3",
   "version": "3.10.4"
  }
 },
 "nbformat": 4,
 "nbformat_minor": 5
}
