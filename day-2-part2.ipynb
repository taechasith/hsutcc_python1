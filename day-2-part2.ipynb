{
 "cells": [
  {
   "cell_type": "code",
   "execution_count": 2,
   "id": "ffb667f5",
   "metadata": {},
   "outputs": [
    {
     "name": "stdout",
     "output_type": "stream",
     "text": [
      "hello, world!\n"
     ]
    }
   ],
   "source": [
    "print('hello, world!')"
   ]
  },
  {
   "cell_type": "code",
   "execution_count": null,
   "id": "1fd6b3b6",
   "metadata": {},
   "outputs": [
    {
     "name": "stdout",
     "output_type": "stream",
     "text": [
      "False\n"
     ]
    }
   ],
   "source": [
    "print(bool(None))\n",
    "\n",
    "# for number if 0 = false, other number will true,\n",
    "# false is 0 true is 1\n",
    "# จำ logiccc"
   ]
  },
  {
   "cell_type": "markdown",
   "id": "6380b4a0",
   "metadata": {},
   "source": [
    "##Variables"
   ]
  },
  {
   "cell_type": "code",
   "execution_count": null,
   "id": "8fe9e49b",
   "metadata": {},
   "outputs": [
    {
     "name": "stdout",
     "output_type": "stream",
     "text": [
      "Hi \n"
     ]
    }
   ],
   "source": [
    "# pep8 guide line\n",
    "\n",
    "x = 1\n",
    "s = \"Hello\"\n",
    "\n",
    "age = 22\n",
    "name = \"CreativeLabTH\"\n"
   ]
  },
  {
   "cell_type": "markdown",
   "id": "6349f06b",
   "metadata": {},
   "source": [
    "##how to name variables"
   ]
  },
  {
   "cell_type": "code",
   "execution_count": null,
   "id": "183d76c8",
   "metadata": {},
   "outputs": [],
   "source": [
    "# each dev of each language will use differently\n",
    "\n",
    "#snake_case (We will use just this in this module)\n",
    "founded_year_utcc_admission_department = 1980\n",
    "\n",
    "# camelCase\n",
    "foundedYearUtccAdmissionDepartment = 1980\n",
    "\n",
    "#PascalCase \n",
    "FoundedYearUtccAdmissionDepartment = 1980"
   ]
  },
  {
   "cell_type": "code",
   "execution_count": null,
   "id": "fda84469",
   "metadata": {},
   "outputs": [],
   "source": [
    "# 1bangkok= 20 cant be done\n",
    "# _1bangkok = 20 is ok\n",
    "# syntaxerror = computer cant understaND\n",
    "\n",
    "# eahc line should contain 66 charcaters, 79 is good (from reserahc 79 is max that humn aeye not lost dsctract anbd also when windiow is sepperste we can stioll see)\n",
    "\n",
    "print(\"kkkkkkkkkkkkkkkkkkkkkkkkkkkkkkkkkkkkkkkkkkkkkkkkkkkkk\\\n",
    "      kkkkkkkkkkkkkkkkkkkkkkkkkkkkkkkkkkkkkkkkkkkkkkkkkkkkkkk\\\n",
    "      kkkkkkkkkkkkkkkkkkkkkkkkkkkkkkkkkkkkkkkkkkkkkkkkkkkkkkkkk\\\n",
    "      kkkkkkkkkkkk\")\n"
   ]
  },
  {
   "cell_type": "code",
   "execution_count": null,
   "id": "c2c99514",
   "metadata": {},
   "outputs": [
    {
     "name": "stdout",
     "output_type": "stream",
     "text": [
      "['False', 'None', 'True', 'and', 'as', 'assert', 'async', 'await', 'break', 'class', 'continue', 'def', 'del', 'elif', 'else', 'except', 'finally', 'for', 'from', 'global', 'if', 'import', 'in', 'is', 'lambda', 'nonlocal', 'not', 'or', 'pass', 'raise', 'return', 'try', 'while', 'with', 'yield']\n"
     ]
    }
   ],
   "source": [
    "import keyword\n",
    "print(keyword.kwlist)\n",
    "\n",
    "# resereved variables )(cant use)\n"
   ]
  },
  {
   "cell_type": "code",
   "execution_count": 1,
   "id": "325c1422",
   "metadata": {},
   "outputs": [
    {
     "name": "stdout",
     "output_type": "stream",
     "text": [
      "Hi \n"
     ]
    }
   ],
   "source": [
    "name = input()\n",
    "hello = \"Hi\"\n",
    "print(hello, name)"
   ]
  },
  {
   "cell_type": "code",
   "execution_count": 3,
   "id": "de1b147a",
   "metadata": {},
   "outputs": [
    {
     "name": "stdout",
     "output_type": "stream",
     "text": [
      "0\n"
     ]
    }
   ],
   "source": [
    "age = int(bool(input()))\n",
    "print(age)"
   ]
  },
  {
   "cell_type": "code",
   "execution_count": null,
   "id": "558e8c3a",
   "metadata": {},
   "outputs": [],
   "source": []
  }
 ],
 "metadata": {
  "kernelspec": {
   "display_name": "Python 3",
   "language": "python",
   "name": "python3"
  },
  "language_info": {
   "codemirror_mode": {
    "name": "ipython",
    "version": 3
   },
   "file_extension": ".py",
   "mimetype": "text/x-python",
   "name": "python",
   "nbconvert_exporter": "python",
   "pygments_lexer": "ipython3",
   "version": "3.10.4"
  }
 },
 "nbformat": 4,
 "nbformat_minor": 5
}
