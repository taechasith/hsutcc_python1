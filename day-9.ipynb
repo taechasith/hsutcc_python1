{
 "cells": [
  {
   "cell_type": "markdown",
   "id": "13d492f5",
   "metadata": {},
   "source": []
  },
  {
   "cell_type": "markdown",
   "id": "7b8e6b07",
   "metadata": {},
   "source": [
    "LOOP"
   ]
  },
  {
   "cell_type": "markdown",
   "id": "180cd153",
   "metadata": {},
   "source": [
    "String >> Sequence of Characters\n",
    "List >> Sequence of objects"
   ]
  },
  {
   "cell_type": "markdown",
   "id": "d717d998",
   "metadata": {},
   "source": [
    "REMOVE"
   ]
  },
  {
   "cell_type": "code",
   "execution_count": null,
   "id": "ff0b0f1d",
   "metadata": {},
   "outputs": [],
   "source": [
    "numbers =  [1, 2, 3, 4, 5]\n",
    "numbers.pop(1)\n",
    "print(numbers)  # Output: [1, 3, 4, 5]"
   ]
  },
  {
   "cell_type": "code",
   "execution_count": 1,
   "id": "0fd7fc3a",
   "metadata": {},
   "outputs": [
    {
     "name": "stdout",
     "output_type": "stream",
     "text": [
      "Count of numbers left: 83\n"
     ]
    }
   ],
   "source": [
    "#create a list from 1-100\n",
    "#remove the odd number that is divisible by 3\n",
    "# count how many numbers left\n",
    "\n",
    "numbers = []\n",
    "for num in range(1, 101):\n",
    "    numbers.append(num)\n",
    "\n",
    "for num in numbers[:]:  # Iterate over a copy of the list\n",
    "    if num % 2 != 0 and num % 3 == 0:\n",
    "        numbers.remove(num)\n",
    "\n",
    "print(\"Count of numbers left:\", len(numbers))"
   ]
  },
  {
   "cell_type": "markdown",
   "id": "aabb0561",
   "metadata": {},
   "source": [
    "LOOP IN LIST"
   ]
  },
  {
   "cell_type": "markdown",
   "id": "e1ceabe3",
   "metadata": {},
   "source": []
  },
  {
   "cell_type": "code",
   "execution_count": 60,
   "id": "3b8b81f7",
   "metadata": {},
   "outputs": [
    {
     "name": "stdout",
     "output_type": "stream",
     "text": [
      "1\n",
      "2\n",
      "3\n",
      "4\n",
      "0 1\n",
      "1 2\n",
      "2 3\n",
      "3 4\n"
     ]
    }
   ],
   "source": [
    "my_list = [1, 2, 3, 4]\n",
    "for element in my_list:\n",
    "    print(element)\n",
    "\n",
    "for index, element in enumerate(my_list):\n",
    "    print(index , element)\n"
   ]
  },
  {
   "cell_type": "markdown",
   "id": "ed675202",
   "metadata": {},
   "source": [
    "LIST COMPREHENSION"
   ]
  },
  {
   "cell_type": "code",
   "execution_count": 3,
   "id": "531df62c",
   "metadata": {},
   "outputs": [
    {
     "name": "stdout",
     "output_type": "stream",
     "text": [
      "[0, 1, 2, 3, 4]\n"
     ]
    }
   ],
   "source": [
    "numbers = [element for element in range(5)]\n",
    "print(numbers)"
   ]
  }
 ],
 "metadata": {
  "kernelspec": {
   "display_name": "Python 3",
   "language": "python",
   "name": "python3"
  },
  "language_info": {
   "codemirror_mode": {
    "name": "ipython",
    "version": 3
   },
   "file_extension": ".py",
   "mimetype": "text/x-python",
   "name": "python",
   "nbconvert_exporter": "python",
   "pygments_lexer": "ipython3",
   "version": "3.10.4"
  }
 },
 "nbformat": 4,
 "nbformat_minor": 5
}
