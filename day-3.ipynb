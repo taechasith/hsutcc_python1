{
 "cells": [
  {
   "cell_type": "markdown",
   "id": "5eb10830",
   "metadata": {},
   "source": [
    "##DAY3"
   ]
  },
  {
   "cell_type": "markdown",
   "id": "ad9c83a0",
   "metadata": {},
   "source": [
    "<!-- convert inner circel to outer -->"
   ]
  },
  {
   "cell_type": "code",
   "execution_count": 5,
   "id": "b8bbd232",
   "metadata": {},
   "outputs": [
    {
     "name": "stdout",
     "output_type": "stream",
     "text": [
      "1.0\n"
     ]
    }
   ],
   "source": [
    "# float\n",
    "a = float(-2.5)\n",
    "a = float(\"2.5\")\n",
    "a = float(True)\n",
    "# a = float(\"False\")\n",
    "print(a)"
   ]
  },
  {
   "cell_type": "code",
   "execution_count": 8,
   "id": "f53c5f28",
   "metadata": {},
   "outputs": [
    {
     "name": "stdout",
     "output_type": "stream",
     "text": [
      "False\n"
     ]
    }
   ],
   "source": [
    "# bool\n",
    "a = bool(3)\n",
    "a = bool(None)\n",
    "a = bool(-0.000000000000000000000000000000000)\n",
    "print(a)"
   ]
  },
  {
   "cell_type": "code",
   "execution_count": 10,
   "id": "ad90cdfd",
   "metadata": {},
   "outputs": [
    {
     "name": "stdout",
     "output_type": "stream",
     "text": [
      "True\n"
     ]
    }
   ],
   "source": [
    "a = bool(float(str(2.0)))\n",
    "print(a)"
   ]
  },
  {
   "cell_type": "markdown",
   "id": "b205bb1c",
   "metadata": {},
   "source": [
    "when we over write a like\n",
    "a = 6\n",
    "a = 7\n",
    "means we change a value over and over\n",
    "we can do it cause python is a \"dynamic-typed programming language\""
   ]
  },
  {
   "cell_type": "markdown",
   "id": "f52751e4",
   "metadata": {},
   "source": [
    "##Mathematical Operations"
   ]
  },
  {
   "cell_type": "markdown",
   "id": "cee71474",
   "metadata": {
    "vscode": {
     "languageId": "latex"
    }
   },
   "source": [
    "$+ ,- ,\\times ,/ ,modulo ,power"
   ]
  },
  {
   "cell_type": "code",
   "execution_count": 28,
   "id": "e0414c34",
   "metadata": {},
   "outputs": [
    {
     "ename": "ZeroDivisionError",
     "evalue": "float modulo",
     "output_type": "error",
     "traceback": [
      "\u001b[1;31m---------------------------------------------------------------------------\u001b[0m",
      "\u001b[1;31mZeroDivisionError\u001b[0m                         Traceback (most recent call last)",
      "Cell \u001b[1;32mIn[28], line 15\u001b[0m\n\u001b[0;32m     13\u001b[0m j \u001b[38;5;241m=\u001b[39m \u001b[38;5;241m32.0\u001b[39m \u001b[38;5;241m%\u001b[39m \u001b[38;5;241m-\u001b[39m\u001b[38;5;241m5.1\u001b[39m \u001b[38;5;66;03m#is ok in python with the result of...\u001b[39;00m\n\u001b[0;32m     14\u001b[0m j \u001b[38;5;241m=\u001b[39m \u001b[38;5;241m-\u001b[39m\u001b[38;5;241m12.5\u001b[39m \u001b[38;5;241m%\u001b[39m \u001b[38;5;28;01mTrue\u001b[39;00m \u001b[38;5;66;03m#true is sub-class of int as 1\u001b[39;00m\n\u001b[1;32m---> 15\u001b[0m j \u001b[38;5;241m=\u001b[39m \u001b[38;5;241;43m-\u001b[39;49m\u001b[38;5;241;43m12.5\u001b[39;49m\u001b[43m \u001b[49m\u001b[38;5;241;43m%\u001b[39;49m\u001b[43m \u001b[49m\u001b[38;5;28;43;01mFalse\u001b[39;49;00m \u001b[38;5;66;03m#error\u001b[39;00m\n\u001b[0;32m     16\u001b[0m j \u001b[38;5;241m=\u001b[39m \u001b[38;5;241m-\u001b[39m\u001b[38;5;241m12.5\u001b[39m \u001b[38;5;241m%\u001b[39m \u001b[38;5;241m0\u001b[39m \u001b[38;5;66;03m#error\u001b[39;00m\n\u001b[0;32m     17\u001b[0m \u001b[38;5;28mprint\u001b[39m(j)\n",
      "\u001b[1;31mZeroDivisionError\u001b[0m: float modulo"
     ]
    }
   ],
   "source": [
    "a = 2 + 6\n",
    "a = sum((2, 6, 5))\n",
    "b = 7\n",
    "c = 6 * 4 #asterisk\n",
    "e = 8 / 4\n",
    "z = int(8 / 4) #or\n",
    "f = 8 // 4 \n",
    "g = 2 ** 3 #cube\n",
    "h = 2 ** 0.5 #root2\n",
    "g = 8 ** (1/7) #7root8\n",
    "\n",
    "j = 7 % 3 #modulo 7หาร3เหลือเศษ1\n",
    "j = 32.0 % -5.1 #is ok in python with the result of...\n",
    "j = -12.5 % True #true is sub-class of int as 1\n",
    "j = -12.5 % False #error\n",
    "j = -12.5 % 0 #error\n",
    "print(j)"
   ]
  },
  {
   "cell_type": "code",
   "execution_count": 35,
   "id": "c65b1f9a",
   "metadata": {},
   "outputs": [
    {
     "data": {
      "text/plain": [
       "2.3333333333333335"
      ]
     },
     "execution_count": 35,
     "metadata": {},
     "output_type": "execute_result"
    }
   ],
   "source": [
    "7/3"
   ]
  },
  {
   "cell_type": "code",
   "execution_count": 34,
   "id": "ca479e6f",
   "metadata": {},
   "outputs": [
    {
     "data": {
      "text/plain": [
       "0.30000000000000004"
      ]
     },
     "execution_count": 34,
     "metadata": {},
     "output_type": "execute_result"
    }
   ],
   "source": [
    "0.1 + 0.2"
   ]
  },
  {
   "cell_type": "code",
   "execution_count": 30,
   "id": "0243c26d",
   "metadata": {},
   "outputs": [
    {
     "data": {
      "text/plain": [
       "1"
      ]
     },
     "execution_count": 30,
     "metadata": {},
     "output_type": "execute_result"
    }
   ],
   "source": [
    "0 ** 0 #in set theory"
   ]
  },
  {
   "cell_type": "markdown",
   "id": "2df4528e",
   "metadata": {
    "vscode": {
     "languageId": "latex"
    }
   },
   "source": [
    "$$\n",
    "\\begin{aligned}\n",
    "\\textbf{Order of Operations in Python:} \\\\\n",
    "1.\\ & \\text{Parentheses } (\\,\\texttt{( )}\\,) \\\\\n",
    "2.\\ & \\text{Exponentiation / Power / Logarithmic Functions } (\\,\\texttt{**},\\ \\text{log()}\\,) \\\\\n",
    "3.\\ & \\text{Multiplication } (\\,\\texttt{*}\\,) \\\\\n",
    "4.\\ & \\text{Division } (\\,\\texttt{/}\\,) \\\\\n",
    "5.\\ & \\text{Modulus } (\\,\\texttt{\\%}\\,) \\\\\n",
    "6.\\ & \\text{Addition and Subtraction } (\\,\\texttt{+},\\ \\texttt{-}\\,) \\\\\n",
    "& \\text{Evaluation proceeds from right to left where applicable.}\n",
    "\\end{aligned}\n",
    "$$\n"
   ]
  },
  {
   "cell_type": "markdown",
   "id": "d7c1c376",
   "metadata": {},
   "source": []
  },
  {
   "cell_type": "code",
   "execution_count": null,
   "id": "2f3ac3ad",
   "metadata": {},
   "outputs": [],
   "source": [
    "##short hand\n",
    "\n",
    "a = a - 5\n",
    "a -= 5\n",
    "\n",
    "a = a + 5\n",
    "a += 5\n",
    "\n",
    "a = a * 5\n",
    "a *= 5\n",
    "\n",
    "a = a / 5\n",
    "a /= 5\n",
    "\n",
    "a = a // 5\n",
    "a //= 5\n",
    "\n",
    "a = a ** 5\n",
    "a **= 5"
   ]
  },
  {
   "cell_type": "markdown",
   "id": "a5427680",
   "metadata": {},
   "source": [
    "Logical Operations\n",
    "\n",
    "Proposition (n.) a state ment that can hgave true or falsse value\n",
    "\n",
    "yor are male (is proposition)\n",
    "cant eat (not)"
   ]
  },
  {
   "cell_type": "code",
   "execution_count": null,
   "id": "e9fa7280",
   "metadata": {},
   "outputs": [],
   "source": [
    "2 == 4 #false\n",
    "2 != 4 #true"
   ]
  },
  {
   "cell_type": "code",
   "execution_count": 44,
   "id": "d9891b84",
   "metadata": {},
   "outputs": [
    {
     "name": "stdout",
     "output_type": "stream",
     "text": [
      "False\n"
     ]
    }
   ],
   "source": [
    "print(4 > 3 > 3 > 1)"
   ]
  },
  {
   "cell_type": "code",
   "execution_count": null,
   "id": "a1dfda57",
   "metadata": {},
   "outputs": [],
   "source": [
    "#will stop at the first  true or the last\n",
    "print(True or 0)\n",
    "print(0 or 0)\n",
    "print(0 or 1)\n",
    "\n",
    "#will stop at the first faslse or the last\n",
    "print(True and 0)\n",
    "print(True and 1 and 0 and 5)"
   ]
  }
 ],
 "metadata": {
  "kernelspec": {
   "display_name": "Python 3",
   "language": "python",
   "name": "python3"
  },
  "language_info": {
   "codemirror_mode": {
    "name": "ipython",
    "version": 3
   },
   "file_extension": ".py",
   "mimetype": "text/x-python",
   "name": "python",
   "nbconvert_exporter": "python",
   "pygments_lexer": "ipython3",
   "version": "3.10.4"
  }
 },
 "nbformat": 4,
 "nbformat_minor": 5
}
