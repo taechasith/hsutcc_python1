{
 "cells": [
  {
   "cell_type": "markdown",
   "id": "a59d412b",
   "metadata": {},
   "source": [
    "DAY4"
   ]
  },
  {
   "cell_type": "code",
   "execution_count": null,
   "id": "0be13ebf",
   "metadata": {},
   "outputs": [],
   "source": [
    "celsius = float(input(\"Enter temperature in Celsius nhoi krub: \"))\n",
    "fahrenheit = (celsius * 9/5) + 32\n",
    "print(\"Temperature in Fahrenheit is:\", fahrenheit)"
   ]
  },
  {
   "cell_type": "markdown",
   "id": "a09c1d35",
   "metadata": {},
   "source": [
    "MATH FUNCTIONS"
   ]
  },
  {
   "cell_type": "code",
   "execution_count": 1,
   "id": "2462df95",
   "metadata": {},
   "outputs": [
    {
     "data": {
      "text/plain": [
       "13"
      ]
     },
     "execution_count": 1,
     "metadata": {},
     "output_type": "execute_result"
    }
   ],
   "source": [
    "abs(+13)"
   ]
  },
  {
   "cell_type": "code",
   "execution_count": 2,
   "id": "86ea9516",
   "metadata": {},
   "outputs": [
    {
     "data": {
      "text/plain": [
       "-5"
      ]
     },
     "execution_count": 2,
     "metadata": {},
     "output_type": "execute_result"
    }
   ],
   "source": [
    "min(-5, 3, 9, 1)"
   ]
  },
  {
   "cell_type": "code",
   "execution_count": 7,
   "id": "81365ef7",
   "metadata": {},
   "outputs": [
    {
     "data": {
      "text/plain": [
       "3.1415555556"
      ]
     },
     "execution_count": 7,
     "metadata": {},
     "output_type": "execute_result"
    }
   ],
   "source": [
    "round(3.1415555555555555555555555555555555555555555555555, 10)"
   ]
  },
  {
   "cell_type": "code",
   "execution_count": 8,
   "id": "bb3389f1",
   "metadata": {},
   "outputs": [
    {
     "data": {
      "text/plain": [
       "3"
      ]
     },
     "execution_count": 8,
     "metadata": {},
     "output_type": "execute_result"
    }
   ],
   "source": [
    "round(2.5000000001)"
   ]
  },
  {
   "cell_type": "code",
   "execution_count": 9,
   "id": "aed18809",
   "metadata": {},
   "outputs": [
    {
     "data": {
      "text/plain": [
       "2"
      ]
     },
     "execution_count": 9,
     "metadata": {},
     "output_type": "execute_result"
    }
   ],
   "source": [
    "round(2.5)"
   ]
  },
  {
   "cell_type": "code",
   "execution_count": 11,
   "id": "2eb10598",
   "metadata": {},
   "outputs": [
    {
     "data": {
      "text/plain": [
       "2.46"
      ]
     },
     "execution_count": 11,
     "metadata": {},
     "output_type": "execute_result"
    }
   ],
   "source": [
    "round(2.455, 2)"
   ]
  },
  {
   "cell_type": "code",
   "execution_count": 21,
   "id": "c2f0e686",
   "metadata": {},
   "outputs": [
    {
     "data": {
      "text/plain": [
       "0.0"
      ]
     },
     "execution_count": 21,
     "metadata": {},
     "output_type": "execute_result"
    }
   ],
   "source": [
    "round(960.00, -5)"
   ]
  },
  {
   "cell_type": "code",
   "execution_count": 22,
   "id": "a0b25e31",
   "metadata": {},
   "outputs": [
    {
     "ename": "TypeError",
     "evalue": "'float' object cannot be interpreted as an integer",
     "output_type": "error",
     "traceback": [
      "\u001b[1;31m---------------------------------------------------------------------------\u001b[0m",
      "\u001b[1;31mTypeError\u001b[0m                                 Traceback (most recent call last)",
      "Cell \u001b[1;32mIn[22], line 1\u001b[0m\n\u001b[1;32m----> 1\u001b[0m \u001b[38;5;28;43mround\u001b[39;49m\u001b[43m(\u001b[49m\u001b[38;5;241;43m4.5\u001b[39;49m\u001b[43m,\u001b[49m\u001b[43m \u001b[49m\u001b[38;5;241;43m2.5\u001b[39;49m\u001b[43m)\u001b[49m\n",
      "\u001b[1;31mTypeError\u001b[0m: 'float' object cannot be interpreted as an integer"
     ]
    }
   ],
   "source": [
    "round(4.5, 2.5)"
   ]
  },
  {
   "cell_type": "markdown",
   "id": "4e59587f",
   "metadata": {},
   "source": [
    "CONDITIONS"
   ]
  },
  {
   "cell_type": "code",
   "execution_count": 25,
   "id": "2a60593e",
   "metadata": {},
   "outputs": [
    {
     "name": "stdout",
     "output_type": "stream",
     "text": [
      "HELLO\n",
      "BYE\n"
     ]
    }
   ],
   "source": [
    "\"\"\"\n",
    "if PROPOSITION(S):\n",
    "   DO SOMETHING\n",
    "\"\"\"\n",
    "\n",
    "if 3 < 5:\n",
    "    print(\"HELLO\")\n",
    "print(\"BYE\")"
   ]
  },
  {
   "cell_type": "code",
   "execution_count": 26,
   "id": "55425912",
   "metadata": {},
   "outputs": [
    {
     "name": "stdout",
     "output_type": "stream",
     "text": [
      "x is greater than 5\n",
      "y is less than 10\n"
     ]
    }
   ],
   "source": [
    "x = 10\n",
    "y = 5\n",
    "\n",
    "if x > 5:  # Outer if statement\n",
    "    print(\"x is greater than 5\")\n",
    "    if y < 10:  # Nested if statement\n",
    "        print(\"y is less than 10\")\n",
    "    else:\n",
    "        print(\"y is not less than 10\")\n",
    "else:\n",
    "    print(\"x is not greater than 5\")"
   ]
  },
  {
   "cell_type": "markdown",
   "id": "0a479991",
   "metadata": {},
   "source": [
    "ELSE"
   ]
  },
  {
   "cell_type": "code",
   "execution_count": 28,
   "id": "e9c65bff",
   "metadata": {},
   "outputs": [
    {
     "name": "stdout",
     "output_type": "stream",
     "text": [
      "x is a positive even number\n"
     ]
    }
   ],
   "source": [
    "if x > 0:\n",
    "    if x % 2 == 0:\n",
    "        print(\"x is a positive even number\")\n",
    "    else:\n",
    "        print(\"x is a positive odd number\")"
   ]
  },
  {
   "cell_type": "markdown",
   "id": "7b53d331",
   "metadata": {},
   "source": [
    "ELIF"
   ]
  },
  {
   "cell_type": "code",
   "execution_count": 30,
   "id": "6d97087d",
   "metadata": {},
   "outputs": [
    {
     "name": "stdout",
     "output_type": "stream",
     "text": [
      "0\n"
     ]
    }
   ],
   "source": [
    "if 2 < 3:\n",
    "    print(\"0\")\n",
    "elif 3 > 4:\n",
    "    print(\"n\")"
   ]
  },
  {
   "cell_type": "code",
   "execution_count": 4,
   "id": "67627f4a",
   "metadata": {},
   "outputs": [
    {
     "name": "stdout",
     "output_type": "stream",
     "text": [
      "12\n"
     ]
    }
   ],
   "source": [
    "first_side = int(input())\n",
    "second_side = int(input())\n",
    "third_side = int(input())\n",
    "print(first_side + second_side + third_side)"
   ]
  },
  {
   "cell_type": "markdown",
   "id": "09712d2a",
   "metadata": {},
   "source": [
    "break"
   ]
  },
  {
   "cell_type": "code",
   "execution_count": 7,
   "id": "e2b26993",
   "metadata": {},
   "outputs": [
    {
     "name": "stdout",
     "output_type": "stream",
     "text": [
      "1\n"
     ]
    }
   ],
   "source": [
    "number = 1\n",
    "while number % 6 == 0:\n",
    "    break\n",
    "print(number)\n",
    "number += 1"
   ]
  },
  {
   "cell_type": "markdown",
   "id": "d26966dc",
   "metadata": {},
   "source": [
    "continue: when hits continue it will loop the before function in this case is while "
   ]
  },
  {
   "cell_type": "code",
   "execution_count": 11,
   "id": "ccead812",
   "metadata": {},
   "outputs": [
    {
     "name": "stdout",
     "output_type": "stream",
     "text": [
      "1\n",
      "3\n",
      "5\n",
      "7\n",
      "9\n"
     ]
    }
   ],
   "source": [
    "number = 1\n",
    "while number < 10:\n",
    "    if number % 2 == 0:\n",
    "        number += 1\n",
    "        continue\n",
    "    print(number)\n",
    "    number += 1"
   ]
  },
  {
   "cell_type": "markdown",
   "id": "26cb54d2",
   "metadata": {},
   "source": []
  },
  {
   "cell_type": "markdown",
   "id": "36e64be3",
   "metadata": {},
   "source": [
    "pass: use to pass code when dev still not done with that pile of code"
   ]
  },
  {
   "cell_type": "code",
   "execution_count": 10,
   "id": "6d00b5e2",
   "metadata": {},
   "outputs": [
    {
     "name": "stdout",
     "output_type": "stream",
     "text": [
      "1\n",
      "2\n",
      "3\n",
      "4\n",
      "5\n",
      "6\n",
      "7\n",
      "8\n",
      "9\n"
     ]
    }
   ],
   "source": [
    "number = 1\n",
    "while number < 10:\n",
    "    if number % 2 == 0:\n",
    "        pass\n",
    "    print(number)\n",
    "    number += 1"
   ]
  },
  {
   "cell_type": "markdown",
   "id": "961127fa",
   "metadata": {},
   "source": [
    "##For Loop"
   ]
  },
  {
   "cell_type": "markdown",
   "id": "94902a40",
   "metadata": {},
   "source": [
    "range(start, stop, step)"
   ]
  },
  {
   "cell_type": "code",
   "execution_count": null,
   "id": "e8f732ba",
   "metadata": {},
   "outputs": [
    {
     "data": {
      "text/plain": [
       "range(0, 6)"
      ]
     },
     "execution_count": 12,
     "metadata": {},
     "output_type": "execute_result"
    }
   ],
   "source": [
    "range(6) # 0, 1, 2, 3, 4, 5 (python index start from 0)\n",
    "range(0) # nothing will generate\n",
    "range(-1, 5) #-1, 0, 1, 2, 3, 4\n",
    "range(1, 10, 2) # 1, 3, 5, 7, 9\n"
   ]
  },
  {
   "cell_type": "code",
   "execution_count": 13,
   "id": "5af1e8a4",
   "metadata": {},
   "outputs": [
    {
     "name": "stdout",
     "output_type": "stream",
     "text": [
      "0\n",
      "1\n",
      "2\n",
      "3\n",
      "4\n"
     ]
    }
   ],
   "source": [
    "for index in range(5):\n",
    "    print(index)"
   ]
  },
  {
   "cell_type": "markdown",
   "id": "cc4c0c44",
   "metadata": {},
   "source": [
    "Print even number from 10 to 0, inclusive"
   ]
  },
  {
   "cell_type": "code",
   "execution_count": null,
   "id": "2dad355f",
   "metadata": {
    "vscode": {
     "languageId": "latex"
    }
   },
   "outputs": [
    {
     "data": {
      "text/latex": [
       "$\\displaystyle 1^2 + 2^2 + 3^2 + \\dots + n^2 = \\frac{n(n+1)(2n+1)}{6}$"
      ],
      "text/plain": [
       "<IPython.core.display.Math object>"
      ]
     },
     "metadata": {},
     "output_type": "display_data"
    }
   ],
   "source": [
    "from IPython.display import display, Math\n",
    "display(Math(r\"1^2 + 2^2 + 3^2 + \\dots + n^2 = \\frac{n(n+1)(2n+1)}{6}\"))\n"
   ]
  },
  {
   "cell_type": "code",
   "execution_count": 20,
   "id": "a3e45da9",
   "metadata": {
    "vscode": {
     "languageId": "latex"
    }
   },
   "outputs": [
    {
     "name": "stdout",
     "output_type": "stream",
     "text": [
      "The sum of squares from 1 to 56666666666666666 is 6.065432098765432e+49\n"
     ]
    }
   ],
   "source": [
    "number = int(input(\"Enter a number: \"))\n",
    "results = number * (number + 1) * (2 * number + 1) / 6\n",
    "print(f\"The sum of squares from 1 to {number} is {results}\")"
   ]
  },
  {
   "cell_type": "code",
   "execution_count": null,
   "id": "7ac8ea92",
   "metadata": {},
   "outputs": [],
   "source": [
    "i = 2\n",
    "while i < 5:\n",
    "    print(i)\n",
    "    i += 1"
   ]
  }
 ],
 "metadata": {
  "kernelspec": {
   "display_name": "Python 3",
   "language": "python",
   "name": "python3"
  },
  "language_info": {
   "codemirror_mode": {
    "name": "ipython",
    "version": 3
   },
   "file_extension": ".py",
   "mimetype": "text/x-python",
   "name": "python",
   "nbconvert_exporter": "python",
   "pygments_lexer": "ipython3",
   "version": "3.10.4"
  }
 },
 "nbformat": 4,
 "nbformat_minor": 5
}
