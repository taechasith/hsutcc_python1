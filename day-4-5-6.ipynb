{
 "cells": [
  {
   "cell_type": "markdown",
   "id": "a59d412b",
   "metadata": {},
   "source": [
    "DAY4"
   ]
  },
  {
   "cell_type": "code",
   "execution_count": null,
   "id": "0be13ebf",
   "metadata": {},
   "outputs": [],
   "source": [
    "celsius = float(input(\"Enter temperature in Celsius nhoi krub: \"))\n",
    "fahrenheit = (celsius * 9/5) + 32\n",
    "print(\"Temperature in Fahrenheit is:\", fahrenheit)"
   ]
  },
  {
   "cell_type": "markdown",
   "id": "a09c1d35",
   "metadata": {},
   "source": [
    "MATH FUNCTIONS"
   ]
  },
  {
   "cell_type": "code",
   "execution_count": 1,
   "id": "2462df95",
   "metadata": {},
   "outputs": [
    {
     "data": {
      "text/plain": [
       "13"
      ]
     },
     "execution_count": 1,
     "metadata": {},
     "output_type": "execute_result"
    }
   ],
   "source": [
    "abs(+13)"
   ]
  },
  {
   "cell_type": "code",
   "execution_count": 2,
   "id": "86ea9516",
   "metadata": {},
   "outputs": [
    {
     "data": {
      "text/plain": [
       "-5"
      ]
     },
     "execution_count": 2,
     "metadata": {},
     "output_type": "execute_result"
    }
   ],
   "source": [
    "min(-5, 3, 9, 1)"
   ]
  },
  {
   "cell_type": "code",
   "execution_count": 7,
   "id": "81365ef7",
   "metadata": {},
   "outputs": [
    {
     "data": {
      "text/plain": [
       "3.1415555556"
      ]
     },
     "execution_count": 7,
     "metadata": {},
     "output_type": "execute_result"
    }
   ],
   "source": [
    "round(3.1415555555555555555555555555555555555555555555555, 10)"
   ]
  },
  {
   "cell_type": "code",
   "execution_count": 8,
   "id": "bb3389f1",
   "metadata": {},
   "outputs": [
    {
     "data": {
      "text/plain": [
       "3"
      ]
     },
     "execution_count": 8,
     "metadata": {},
     "output_type": "execute_result"
    }
   ],
   "source": [
    "round(2.5000000001)"
   ]
  },
  {
   "cell_type": "code",
   "execution_count": 9,
   "id": "aed18809",
   "metadata": {},
   "outputs": [
    {
     "data": {
      "text/plain": [
       "2"
      ]
     },
     "execution_count": 9,
     "metadata": {},
     "output_type": "execute_result"
    }
   ],
   "source": [
    "round(2.5)"
   ]
  },
  {
   "cell_type": "code",
   "execution_count": 11,
   "id": "2eb10598",
   "metadata": {},
   "outputs": [
    {
     "data": {
      "text/plain": [
       "2.46"
      ]
     },
     "execution_count": 11,
     "metadata": {},
     "output_type": "execute_result"
    }
   ],
   "source": [
    "round(2.455, 2)"
   ]
  },
  {
   "cell_type": "code",
   "execution_count": 21,
   "id": "c2f0e686",
   "metadata": {},
   "outputs": [
    {
     "data": {
      "text/plain": [
       "0.0"
      ]
     },
     "execution_count": 21,
     "metadata": {},
     "output_type": "execute_result"
    }
   ],
   "source": [
    "round(960.00, -5)"
   ]
  },
  {
   "cell_type": "code",
   "execution_count": 22,
   "id": "a0b25e31",
   "metadata": {},
   "outputs": [
    {
     "ename": "TypeError",
     "evalue": "'float' object cannot be interpreted as an integer",
     "output_type": "error",
     "traceback": [
      "\u001b[1;31m---------------------------------------------------------------------------\u001b[0m",
      "\u001b[1;31mTypeError\u001b[0m                                 Traceback (most recent call last)",
      "Cell \u001b[1;32mIn[22], line 1\u001b[0m\n\u001b[1;32m----> 1\u001b[0m \u001b[38;5;28;43mround\u001b[39;49m\u001b[43m(\u001b[49m\u001b[38;5;241;43m4.5\u001b[39;49m\u001b[43m,\u001b[49m\u001b[43m \u001b[49m\u001b[38;5;241;43m2.5\u001b[39;49m\u001b[43m)\u001b[49m\n",
      "\u001b[1;31mTypeError\u001b[0m: 'float' object cannot be interpreted as an integer"
     ]
    }
   ],
   "source": [
    "round(4.5, 2.5)"
   ]
  },
  {
   "cell_type": "markdown",
   "id": "4e59587f",
   "metadata": {},
   "source": [
    "CONDITIONS"
   ]
  },
  {
   "cell_type": "code",
   "execution_count": 25,
   "id": "2a60593e",
   "metadata": {},
   "outputs": [
    {
     "name": "stdout",
     "output_type": "stream",
     "text": [
      "HELLO\n",
      "BYE\n"
     ]
    }
   ],
   "source": [
    "\"\"\"\n",
    "if PROPOSITION(S):\n",
    "   DO SOMETHING\n",
    "\"\"\"\n",
    "\n",
    "if 3 < 5:\n",
    "    print(\"HELLO\")\n",
    "print(\"BYE\")"
   ]
  },
  {
   "cell_type": "code",
   "execution_count": 26,
   "id": "55425912",
   "metadata": {},
   "outputs": [
    {
     "name": "stdout",
     "output_type": "stream",
     "text": [
      "x is greater than 5\n",
      "y is less than 10\n"
     ]
    }
   ],
   "source": [
    "x = 10\n",
    "y = 5\n",
    "\n",
    "if x > 5:  # Outer if statement\n",
    "    print(\"x is greater than 5\")\n",
    "    if y < 10:  # Nested if statement\n",
    "        print(\"y is less than 10\")\n",
    "    else:\n",
    "        print(\"y is not less than 10\")\n",
    "else:\n",
    "    print(\"x is not greater than 5\")"
   ]
  },
  {
   "cell_type": "markdown",
   "id": "0a479991",
   "metadata": {},
   "source": [
    "ELSE"
   ]
  },
  {
   "cell_type": "code",
   "execution_count": 28,
   "id": "e9c65bff",
   "metadata": {},
   "outputs": [
    {
     "name": "stdout",
     "output_type": "stream",
     "text": [
      "x is a positive even number\n"
     ]
    }
   ],
   "source": [
    "if x > 0:\n",
    "    if x % 2 == 0:\n",
    "        print(\"x is a positive even number\")\n",
    "    else:\n",
    "        print(\"x is a positive odd number\")"
   ]
  },
  {
   "cell_type": "markdown",
   "id": "7b53d331",
   "metadata": {},
   "source": [
    "ELIF"
   ]
  },
  {
   "cell_type": "code",
   "execution_count": 30,
   "id": "6d97087d",
   "metadata": {},
   "outputs": [
    {
     "name": "stdout",
     "output_type": "stream",
     "text": [
      "0\n"
     ]
    }
   ],
   "source": [
    "if 2 < 3:\n",
    "    print(\"0\")\n",
    "elif 3 > 4:\n",
    "    print(\"n\")"
   ]
  },
  {
   "cell_type": "code",
   "execution_count": 4,
   "id": "67627f4a",
   "metadata": {},
   "outputs": [
    {
     "name": "stdout",
     "output_type": "stream",
     "text": [
      "12\n"
     ]
    }
   ],
   "source": [
    "first_side = int(input())\n",
    "second_side = int(input())\n",
    "third_side = int(input())\n",
    "print(first_side + second_side + third_side)"
   ]
  }
 ],
 "metadata": {
  "kernelspec": {
   "display_name": "Python 3",
   "language": "python",
   "name": "python3"
  },
  "language_info": {
   "codemirror_mode": {
    "name": "ipython",
    "version": 3
   },
   "file_extension": ".py",
   "mimetype": "text/x-python",
   "name": "python",
   "nbconvert_exporter": "python",
   "pygments_lexer": "ipython3",
   "version": "3.10.4"
  }
 },
 "nbformat": 4,
 "nbformat_minor": 5
}
